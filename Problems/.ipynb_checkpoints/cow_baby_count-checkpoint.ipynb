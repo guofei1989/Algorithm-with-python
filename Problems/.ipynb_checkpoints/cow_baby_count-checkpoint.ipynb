{
 "cells": [
  {
   "cell_type": "markdown",
   "metadata": {},
   "source": [
    "母牛从3-7岁初每年会生产1头小母牛，10岁后死亡（10岁仍然存活），假设初始有1头刚出生的母牛，请问第n年有多少头母牛？（年从第一年开始计数）"
   ]
  },
  {
   "cell_type": "code",
   "execution_count": 42,
   "metadata": {},
   "outputs": [],
   "source": [
    "# 定义循环更新函数 \n",
    "def cow_count(num):\n",
    "    # 定义初始数据表\n",
    "    cow_map = {}\n",
    "    total = 0\n",
    "    for i in range(10):\n",
    "        cow_map[i+1] = 0\n",
    "        \n",
    "    for i in range(1, num+1):\n",
    "        if i == 1:\n",
    "            cow_map[1] = 1\n",
    "        else:\n",
    "            new_baby_sum = 0\n",
    "            for j in range(10, 1, -1):\n",
    "                cow_map[j] = cow_map[j-1]\n",
    "                if 3<=j<=7:\n",
    "                    new_baby_sum += cow_map[j]\n",
    "            cow_map[1] = new_baby_sum\n",
    "    for value in cow_map.values():\n",
    "        total += value\n",
    "    return cow_map, total"
   ]
  },
  {
   "cell_type": "code",
   "execution_count": 43,
   "metadata": {},
   "outputs": [
    {
     "name": "stdout",
     "output_type": "stream",
     "text": [
      "123\n"
     ]
    }
   ],
   "source": [
    "cow_dict, tot = cow_count(12)\n",
    "print(tot)"
   ]
  }
 ],
 "metadata": {
  "kernelspec": {
   "display_name": "Python 3",
   "language": "python",
   "name": "python3"
  },
  "language_info": {
   "codemirror_mode": {
    "name": "ipython",
    "version": 3
   },
   "file_extension": ".py",
   "mimetype": "text/x-python",
   "name": "python",
   "nbconvert_exporter": "python",
   "pygments_lexer": "ipython3",
   "version": "3.6.7"
  },
  "toc": {
   "base_numbering": 1,
   "nav_menu": {},
   "number_sections": true,
   "sideBar": true,
   "skip_h1_title": false,
   "title_cell": "Table of Contents",
   "title_sidebar": "Contents",
   "toc_cell": false,
   "toc_position": {},
   "toc_section_display": true,
   "toc_window_display": false
  }
 },
 "nbformat": 4,
 "nbformat_minor": 2
}
