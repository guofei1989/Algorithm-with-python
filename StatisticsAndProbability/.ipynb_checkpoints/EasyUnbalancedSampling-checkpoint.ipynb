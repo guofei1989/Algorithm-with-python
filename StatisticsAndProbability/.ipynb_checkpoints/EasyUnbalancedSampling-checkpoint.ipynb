{
 "cells": [
  {
   "cell_type": "markdown",
   "metadata": {},
   "source": [
    "采用累积法解决简单的离散非均匀采样"
   ]
  },
  {
   "cell_type": "markdown",
   "metadata": {},
   "source": [
    "**问题背景**：一个骰子(6面)，每面的投掷概率不一样，找到一种投掷策略，满足该分布"
   ]
  },
  {
   "cell_type": "markdown",
   "metadata": {},
   "source": [
    "解决方案: 采用累积法，逐个对各离散概率进行累加，再用一个uniform采样去得到对应的投掷值"
   ]
  },
  {
   "cell_type": "code",
   "execution_count": 7,
   "metadata": {},
   "outputs": [],
   "source": [
    "import random\n",
    "import numpy as np\n",
    "import matplotlib.pyplot as plt"
   ]
  },
  {
   "cell_type": "code",
   "execution_count": 4,
   "metadata": {},
   "outputs": [],
   "source": [
    "value_prob = [0.1, 0.2, 0.1, 0.3, 0.05, 0.25]    # 各面的概率\n",
    "def get_unbalanced_value():\n",
    "    value_prob_array = np.array(value_prob)\n",
    "    cum_prob = np.cumsum(value_prob_array)\n",
    "    assert len(value_prob)==6 and cum_prob[-1] == 1\n",
    "    random_value = random.uniform(0, 1)\n",
    "    for i, j in enumerate(cum_prob):\n",
    "        if j > random_value:\n",
    "            break\n",
    "    return i + 1"
   ]
  },
  {
   "cell_type": "code",
   "execution_count": 8,
   "metadata": {},
   "outputs": [
    {
     "data": {
      "text/plain": [
       "(array([ 993.,    0., 2012.,    0.,  963.,    0., 2957.,    0.,  487.,\n",
       "        2588.]),\n",
       " array([1. , 1.5, 2. , 2.5, 3. , 3.5, 4. , 4.5, 5. , 5.5, 6. ]),\n",
       " <a list of 10 Patch objects>)"
      ]
     },
     "execution_count": 8,
     "metadata": {},
     "output_type": "execute_result"
    },
    {
     "data": {
      "image/png": "[encoded data removed]",
      "text/plain": [
       "<Figure size 432x288 with 1 Axes>"
      ]
     },
     "metadata": {},
     "output_type": "display_data"
    }
   ],
   "source": [
    "# 测试\n",
    "results = []\n",
    "for i in range(10000):\n",
    "    results.append(get_unbalanced_value())\n",
    "\n",
    "plt.hist(results)"
   ]
  },
  {
   "cell_type": "code",
   "execution_count": null,
   "metadata": {},
   "outputs": [],
   "source": []
  }
 ],
 "metadata": {
  "kernelspec": {
   "display_name": "Python 3",
   "language": "python",
   "name": "python3"
  },
  "language_info": {
   "codemirror_mode": {
    "name": "ipython",
    "version": 3
   },
   "file_extension": ".py",
   "mimetype": "text/x-python",
   "name": "python",
   "nbconvert_exporter": "python",
   "pygments_lexer": "ipython3",
   "version": "3.6.7"
  },
  "toc": {
   "base_numbering": 1,
   "nav_menu": {},
   "number_sections": true,
   "sideBar": true,
   "skip_h1_title": false,
   "title_cell": "Table of Contents",
   "title_sidebar": "Contents",
   "toc_cell": false,
   "toc_position": {},
   "toc_section_display": true,
   "toc_window_display": false
  }
 },
 "nbformat": 4,
 "nbformat_minor": 2
}
